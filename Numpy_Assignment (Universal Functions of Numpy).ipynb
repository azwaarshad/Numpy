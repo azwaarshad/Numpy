{
 "cells": [
  {
   "cell_type": "markdown",
   "id": "8a766b01",
   "metadata": {},
   "source": [
    "# UNIVERSAL FUNCTIONS OF NUMPY"
   ]
  },
  {
   "cell_type": "markdown",
   "id": "d445a426",
   "metadata": {},
   "source": [
    "## Addition\n",
    "* The add() function adds the values of one array with the values of another array and returns a new array."
   ]
  },
  {
   "cell_type": "code",
   "execution_count": 1,
   "id": "a2339ad0",
   "metadata": {},
   "outputs": [
    {
     "data": {
      "text/plain": [
       "array([ 60,  80, 100, 120])"
      ]
     },
     "metadata": {},
     "output_type": "display_data"
    }
   ],
   "source": [
    "import numpy as np\n",
    "\n",
    "Arr1 = np.array([10,20,30,40])\n",
    "Arr2 = np.array([50,60,70,80])\n",
    "New_Arr = np.add(Arr1,Arr2)\n",
    "\n",
    "display(New_Arr)"
   ]
  },
  {
   "cell_type": "markdown",
   "id": "9403f327",
   "metadata": {},
   "source": [
    "## Subtraction\n",
    "* The subtract() function subtracts the values of one array with the values of another array and returns a new array."
   ]
  },
  {
   "cell_type": "code",
   "execution_count": 2,
   "id": "d2011002",
   "metadata": {},
   "outputs": [
    {
     "data": {
      "text/plain": [
       "array([-2,  5,  8,  7])"
      ]
     },
     "metadata": {},
     "output_type": "display_data"
    }
   ],
   "source": [
    "import numpy as np\n",
    "\n",
    "Arr1 = np.array([10,20,30,40])\n",
    "Arr2 = np.array([12,15,22,33])\n",
    "New_Arr = np.subtract(Arr1,Arr2)\n",
    "\n",
    "display(New_Arr)"
   ]
  },
  {
   "cell_type": "markdown",
   "id": "231aa964",
   "metadata": {},
   "source": [
    "## Multiplication\n",
    "* The multiply() function multiplies the values of one array with the values of another array."
   ]
  },
  {
   "cell_type": "code",
   "execution_count": 3,
   "id": "e3a4ab0a",
   "metadata": {},
   "outputs": [
    {
     "data": {
      "text/plain": [
       "array([ 605, 1386, 2387, 3608])"
      ]
     },
     "metadata": {},
     "output_type": "display_data"
    }
   ],
   "source": [
    "import numpy as np\n",
    "\n",
    "Arr1 = np.array([11,21,31,41])\n",
    "Arr2 = np.array([55,66,77,88])\n",
    "New_Arr = np.multiply(Arr1,Arr2)\n",
    "\n",
    "display(New_Arr)"
   ]
  },
  {
   "cell_type": "markdown",
   "id": "4566ee8e",
   "metadata": {},
   "source": [
    "## Division\n",
    "* The divide() function divides the values of one array from the values of another array."
   ]
  },
  {
   "cell_type": "code",
   "execution_count": 4,
   "id": "5d4f40b9",
   "metadata": {},
   "outputs": [
    {
     "data": {
      "text/plain": [
       "array([5.        , 6.66666667, 6.        , 5.71428571])"
      ]
     },
     "metadata": {},
     "output_type": "display_data"
    }
   ],
   "source": [
    "import numpy as np\n",
    "\n",
    "Arr1 = np.array([10,20,30,40])\n",
    "Arr2 = np.array([2,3,5,7])\n",
    "New_Arr = np.divide(Arr1,Arr2)\n",
    "\n",
    "display(New_Arr)"
   ]
  },
  {
   "cell_type": "markdown",
   "id": "06dbc6a1",
   "metadata": {},
   "source": [
    "## Power\n",
    "* The power() function rises the values of an array to the power of the values of another array."
   ]
  },
  {
   "cell_type": "code",
   "execution_count": 5,
   "id": "9a7c99d5",
   "metadata": {},
   "outputs": [
    {
     "data": {
      "text/plain": [
       "array([     125,    10000,   759375, 64000000], dtype=int32)"
      ]
     },
     "metadata": {},
     "output_type": "display_data"
    }
   ],
   "source": [
    "import numpy as np\n",
    "\n",
    "Arr1 = np.array([5,10,15,20])\n",
    "Arr2 = np.array([3,4,5,6])\n",
    "New_Arr = np.power(Arr1,Arr2)\n",
    "\n",
    "display(New_Arr)"
   ]
  },
  {
   "cell_type": "markdown",
   "id": "61b6c402",
   "metadata": {},
   "source": [
    "## Quotient And Remainder\n",
    "* The divmod() function returns two arrays, the first array contains the quotient and the second array contains the remainder."
   ]
  },
  {
   "cell_type": "code",
   "execution_count": 6,
   "id": "f2cd8d34",
   "metadata": {},
   "outputs": [
    {
     "data": {
      "text/plain": [
       "(array([6, 8, 8, 8], dtype=int32), array([2, 0, 4, 8], dtype=int32))"
      ]
     },
     "metadata": {},
     "output_type": "display_data"
    }
   ],
   "source": [
    "import numpy as np\n",
    "\n",
    "Arr1 = np.array([20,40,60,80])\n",
    "Arr2 = np.array([3,5,7,9])\n",
    "New_Arr = np.divmod(Arr1,Arr2)\n",
    "\n",
    "display(New_Arr)"
   ]
  },
  {
   "cell_type": "markdown",
   "id": "16f3044c",
   "metadata": {},
   "source": [
    "## Truncation\n",
    "* The trunc() function removes the decimal and returns the float value in a new array."
   ]
  },
  {
   "cell_type": "code",
   "execution_count": 7,
   "id": "05661284",
   "metadata": {},
   "outputs": [
    {
     "data": {
      "text/plain": [
       "array([ 4., -5.,  7., -3.])"
      ]
     },
     "metadata": {},
     "output_type": "display_data"
    }
   ],
   "source": [
    "import numpy as np\n",
    "\n",
    "Arr = np.trunc([4.226, -5.667, 7.436, -3.668])\n",
    "\n",
    "display(Arr)"
   ]
  },
  {
   "cell_type": "markdown",
   "id": "ae994355",
   "metadata": {},
   "source": [
    "## Summations\n",
    "* The sum() function sums the values of both the arrays. It happens over n elements."
   ]
  },
  {
   "cell_type": "code",
   "execution_count": 8,
   "id": "06af3e00",
   "metadata": {},
   "outputs": [
    {
     "data": {
      "text/plain": [
       "1110"
      ]
     },
     "metadata": {},
     "output_type": "display_data"
    }
   ],
   "source": [
    "import numpy as np\n",
    "\n",
    "Arr1 = np.array([1,2,3,4])\n",
    "Arr2 = np.array([10,20,30,40])\n",
    "Arr3 = np.array([100,200,300,400])\n",
    "New_Arr = np.sum([Arr1, Arr2, Arr3])\n",
    "\n",
    "display(New_Arr)"
   ]
  },
  {
   "cell_type": "markdown",
   "id": "a65bcd79",
   "metadata": {},
   "source": [
    "## Cummulative Sum\n",
    "* The cumsum() function add elements partially in an array."
   ]
  },
  {
   "cell_type": "code",
   "execution_count": 9,
   "id": "ae0c2169",
   "metadata": {},
   "outputs": [
    {
     "data": {
      "text/plain": [
       "array([ 11,  32,  63, 104, 155], dtype=int32)"
      ]
     },
     "metadata": {},
     "output_type": "display_data"
    }
   ],
   "source": [
    "import numpy as np\n",
    "\n",
    "Arr = np.array([11,21,31,41,51])\n",
    "New_Arr = np.cumsum(Arr)\n",
    "\n",
    "display(New_Arr)"
   ]
  },
  {
   "cell_type": "markdown",
   "id": "d2494672",
   "metadata": {},
   "source": [
    "## Products\n",
    "* The prod() function multiplies all the elements of arrays."
   ]
  },
  {
   "cell_type": "code",
   "execution_count": 10,
   "id": "987a6fa4",
   "metadata": {},
   "outputs": [
    {
     "data": {
      "text/plain": [
       "5760000"
      ]
     },
     "metadata": {},
     "output_type": "display_data"
    }
   ],
   "source": [
    "import numpy as np\n",
    "\n",
    "Arr1 = np.array([1,2,3,4])\n",
    "Arr2 = np.array([10,20,30,40])\n",
    "New_Arr = np.prod([Arr1, Arr2])\n",
    "\n",
    "display(New_Arr)"
   ]
  },
  {
   "cell_type": "markdown",
   "id": "9e79e7ff",
   "metadata": {},
   "source": [
    "## Cummulative Product\n",
    "* The cumprod() function calculate the product of arrays partially. "
   ]
  },
  {
   "cell_type": "code",
   "execution_count": 11,
   "id": "d8897aa9",
   "metadata": {},
   "outputs": [
    {
     "data": {
      "text/plain": [
       "array([     1,      5,     50,    750,  15000, 375000], dtype=int32)"
      ]
     },
     "metadata": {},
     "output_type": "display_data"
    }
   ],
   "source": [
    "import numpy as np\n",
    "\n",
    "Arr = np.array([1,5,10,15,20,25])\n",
    "New_Arr = np.cumprod(Arr)\n",
    "\n",
    "display(New_Arr)"
   ]
  },
  {
   "cell_type": "markdown",
   "id": "9e7b72da",
   "metadata": {},
   "source": [
    "## Differences\n",
    "* The diff() function subtracts two successive elements."
   ]
  },
  {
   "cell_type": "code",
   "execution_count": 12,
   "id": "4252c1f5",
   "metadata": {},
   "outputs": [
    {
     "data": {
      "text/plain": [
       "array([ 10,  20,  15, -30])"
      ]
     },
     "metadata": {},
     "output_type": "display_data"
    }
   ],
   "source": [
    "import numpy as np\n",
    "\n",
    "Arr = np.array([10,20,40,55,25])\n",
    "New_Arr = np.diff(Arr)\n",
    "\n",
    "display(New_Arr)"
   ]
  },
  {
   "cell_type": "markdown",
   "id": "35268dc9",
   "metadata": {},
   "source": [
    "## Lowest Common Multiple(LCM)\n",
    "* The lcm.reduce() function finds the lowest common multiple of all values in an array."
   ]
  },
  {
   "cell_type": "code",
   "execution_count": 13,
   "id": "70b6eb8a",
   "metadata": {},
   "outputs": [
    {
     "data": {
      "text/plain": [
       "18"
      ]
     },
     "metadata": {},
     "output_type": "display_data"
    }
   ],
   "source": [
    "import numpy as np\n",
    "\n",
    "Arr = np.array([1,3,6,9])\n",
    "New_Arr = np.lcm.reduce(Arr)\n",
    "\n",
    "display(New_Arr)"
   ]
  },
  {
   "cell_type": "markdown",
   "id": "90003d26",
   "metadata": {},
   "source": [
    "## Greatest Common Denominator(GCD)\n",
    "* The gcd.reduce() function finds the highest common factor of all values in an array."
   ]
  },
  {
   "cell_type": "code",
   "execution_count": 14,
   "id": "88fb9de8",
   "metadata": {},
   "outputs": [
    {
     "data": {
      "text/plain": [
       "4"
      ]
     },
     "metadata": {},
     "output_type": "display_data"
    }
   ],
   "source": [
    "import numpy as np\n",
    "\n",
    "Arr = np.array([8,20, 40, 16,])\n",
    "New_Arr = np.gcd.reduce(Arr)\n",
    "\n",
    "display(New_Arr)"
   ]
  },
  {
   "cell_type": "markdown",
   "id": "ba084c37",
   "metadata": {},
   "source": [
    "## Sine\n",
    "* The sin() function take values in radians and produce the corresponding sine values."
   ]
  },
  {
   "cell_type": "code",
   "execution_count": 15,
   "id": "adb2d40a",
   "metadata": {},
   "outputs": [
    {
     "data": {
      "text/plain": [
       "array([0.8660254 , 0.58778525, 0.43388374, 1.        ])"
      ]
     },
     "metadata": {},
     "output_type": "display_data"
    }
   ],
   "source": [
    "import numpy as np\n",
    "\n",
    "Arr = np.array([np.pi/3, np.pi/5, np.pi/7, np.pi/2])\n",
    "New_Arr = np.sin(Arr)\n",
    "\n",
    "display(New_Arr)"
   ]
  },
  {
   "cell_type": "markdown",
   "id": "d4b39291",
   "metadata": {},
   "source": [
    "## Hypotenues\n",
    "* The hypot() function takes the base and perpendicular values and produces hypotenues based values using pythagoras theorem."
   ]
  },
  {
   "cell_type": "code",
   "execution_count": 16,
   "id": "10afb478",
   "metadata": {},
   "outputs": [
    {
     "data": {
      "text/plain": [
       "11.180339887498949"
      ]
     },
     "metadata": {},
     "output_type": "display_data"
    }
   ],
   "source": [
    "import numpy as np\n",
    "\n",
    "Base = 5\n",
    "Perpendicular = 10\n",
    "\n",
    "Array = np.hypot(Base, Perpendicular)\n",
    "\n",
    "display(Array)"
   ]
  },
  {
   "cell_type": "markdown",
   "id": "41b8b183",
   "metadata": {},
   "source": [
    "## Hyperbolic Sine\n",
    "* The sinh() function take values in radians and produce corresponding hyperbolic sine values."
   ]
  },
  {
   "cell_type": "code",
   "execution_count": 17,
   "id": "69d14204",
   "metadata": {},
   "outputs": [
    {
     "data": {
      "text/plain": [
       "array([2.3012989 , 0.86867096, 0.54785347, 0.40287038])"
      ]
     },
     "metadata": {},
     "output_type": "display_data"
    }
   ],
   "source": [
    "import numpy as np\n",
    "\n",
    "Array = np.array([np.pi/2, np.pi/4, np.pi/6, np.pi/8])\n",
    "New_Arr = np.sinh(Array)\n",
    "\n",
    "display(New_Arr)"
   ]
  },
  {
   "cell_type": "markdown",
   "id": "0dc40a6d",
   "metadata": {},
   "source": [
    "## Sets\n",
    "* The unique() method finds the unique elements in an array and create a set array. Set arrays should only be 1-D arrays."
   ]
  },
  {
   "cell_type": "code",
   "execution_count": 18,
   "id": "931790b5",
   "metadata": {},
   "outputs": [
    {
     "data": {
      "text/plain": [
       "array([0, 1, 2, 3, 5, 6, 7, 9])"
      ]
     },
     "metadata": {},
     "output_type": "display_data"
    }
   ],
   "source": [
    "import numpy as np\n",
    "\n",
    "Array = np.array([1,3,5,6,2,1,7,9,5,0,1,3])\n",
    "New_Arr = np.unique(Array)\n",
    "\n",
    "display(New_Arr)"
   ]
  },
  {
   "cell_type": "markdown",
   "id": "4a2107d5",
   "metadata": {},
   "source": [
    "## Union\n",
    "* The union1d() function finds the unique values of two arrays."
   ]
  },
  {
   "cell_type": "code",
   "execution_count": 19,
   "id": "01a3ea96",
   "metadata": {},
   "outputs": [
    {
     "data": {
      "text/plain": [
       "array([11, 12, 13, 14, 15, 16])"
      ]
     },
     "metadata": {},
     "output_type": "display_data"
    }
   ],
   "source": [
    "import numpy as np\n",
    "\n",
    "Arr1 = np.array([11,12,13,14])\n",
    "Arr2 = np.array([15,12,16,14])\n",
    "New_Arr = np.union1d(Arr1, Arr2)\n",
    "\n",
    "display(New_Arr)"
   ]
  },
  {
   "cell_type": "markdown",
   "id": "78b8f4ed",
   "metadata": {},
   "source": [
    "## Intersection\n",
    "* The intersect1d() function finds the common values of both arrays."
   ]
  },
  {
   "cell_type": "code",
   "execution_count": 20,
   "id": "552891fb",
   "metadata": {},
   "outputs": [
    {
     "data": {
      "text/plain": [
       "array([12, 14])"
      ]
     },
     "metadata": {},
     "output_type": "display_data"
    }
   ],
   "source": [
    "import numpy as np\n",
    "\n",
    "Arr1 = np.array([11,12,13,14])\n",
    "Arr2 = np.array([15,12,16,14])\n",
    "New_Arr = np.intersect1d(Arr1, Arr2, assume_unique = True)\n",
    "\n",
    "display(New_Arr)"
   ]
  },
  {
   "cell_type": "code",
   "execution_count": null,
   "id": "b30fce23",
   "metadata": {},
   "outputs": [],
   "source": []
  }
 ],
 "metadata": {
  "kernelspec": {
   "display_name": "Python 3 (ipykernel)",
   "language": "python",
   "name": "python3"
  },
  "language_info": {
   "codemirror_mode": {
    "name": "ipython",
    "version": 3
   },
   "file_extension": ".py",
   "mimetype": "text/x-python",
   "name": "python",
   "nbconvert_exporter": "python",
   "pygments_lexer": "ipython3",
   "version": "3.9.7"
  }
 },
 "nbformat": 4,
 "nbformat_minor": 5
}
